{
 "cells": [
  {
   "cell_type": "code",
   "execution_count": 6,
   "metadata": {},
   "outputs": [],
   "source": [
    "is_data = True\n",
    "\n",
    "if is_data:\n",
    "    filename = 'light_module_desc-5.0.0'\n",
    "else:\n",
    "    filename = 'light_module_desc-4.0.0'"
   ]
  },
  {
   "cell_type": "code",
   "execution_count": 7,
   "metadata": {},
   "outputs": [],
   "source": [
    "import yaml\n",
    "\n",
    "#Load the channel mapping files and organize it to be per TPC\n",
    "with open(filename+'.yaml', 'r') as file:\n",
    "    detector_desc = yaml.safe_load(file)\n",
    "\n",
    "#Both these dictionaries contain the same keys namely the TPC key (0-7) and the det key (0-15), which we can loop over\n",
    "det_adc = detector_desc['det_adc']\n",
    "det_chan = detector_desc['det_chan']\n",
    "merged_dict = {}\n",
    "\n",
    "#Loop over TPC and the detector IDs\n",
    "for tpc, detectors in det_adc.items():\n",
    "    tpc_key = f\"TPC {tpc}\"  #Add \"TPC\" to the key\n",
    "    merged_dict[tpc_key] = {}\n",
    "\n",
    "    #Loop over detectors in each TPC\n",
    "    for detector, adc in detectors.items():\n",
    "        detector_key = f\"det {detector}\"  #Add \"det\" to the detector key\n",
    "\n",
    "        #Find corresponding channels for the same detector\n",
    "        channels = det_chan[tpc][detector]\n",
    "\n",
    "        #Store ADC and channels in the merged dictionary\n",
    "        merged_dict[tpc_key][detector_key] = {'ADC': adc, 'Channels': channels}"
   ]
  },
  {
   "cell_type": "code",
   "execution_count": 8,
   "metadata": {},
   "outputs": [],
   "source": [
    "import pandas as pd\n",
    "\n",
    "# Open a file to write the csv\n",
    "with open(filename+'.csv', 'w') as file:\n",
    "  file.write('index,ADC,Channel,TPC,Detector,TrapType\\n')#, x, y, z\\n')\n",
    "  index = 0\n",
    "  # Loop over TPCs\n",
    "  for tpc, detectors in merged_dict.items():\n",
    "    # Loop over detectors\n",
    "    for detector, values in detectors.items():\n",
    "      # Get the ADC and channels\n",
    "      adc = int(values['ADC'])\n",
    "      channels = [int(channel) for channel in values['Channels']]\n",
    "      # 2 channels for LCM, 6 channels for ACL\n",
    "      if len(channels) == 2:\n",
    "        trap_type = 1\n",
    "      else:\n",
    "        trap_type = 0\n",
    "      # Convert TPC and detector to integers\n",
    "      tpc_int = int(tpc.split()[1])\n",
    "      detector_int = int(detector.split()[1])\n",
    "      # Loop over channels\n",
    "      for i, channel in enumerate(channels):\n",
    "          # Write the information to the csv file\n",
    "          file.write(f\"{index},{adc},{channel},{tpc_int},{detector_int},{trap_type}\\n\")#, , , \\n\")\n",
    "          index += 1"
   ]
  }
 ],
 "metadata": {
  "kernelspec": {
   "display_name": "ndlar",
   "language": "python",
   "name": "python3"
  },
  "language_info": {
   "codemirror_mode": {
    "name": "ipython",
    "version": 3
   },
   "file_extension": ".py",
   "mimetype": "text/x-python",
   "name": "python",
   "nbconvert_exporter": "python",
   "pygments_lexer": "ipython3",
   "version": "3.11.10"
  }
 },
 "nbformat": 4,
 "nbformat_minor": 2
}
